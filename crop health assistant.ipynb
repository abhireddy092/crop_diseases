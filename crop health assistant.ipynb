{
 "cells": [
  {
   "cell_type": "code",
   "execution_count": 1,
   "metadata": {},
   "outputs": [
    {
     "ename": "ModuleNotFoundError",
     "evalue": "No module named 'keras'",
     "output_type": "error",
     "traceback": [
      "\u001b[1;31m---------------------------------------------------------------------------\u001b[0m",
      "\u001b[1;31mModuleNotFoundError\u001b[0m                       Traceback (most recent call last)",
      "\u001b[1;32m<ipython-input-1-094c1b86d36f>\u001b[0m in \u001b[0;36m<module>\u001b[1;34m\u001b[0m\n\u001b[1;32m----> 1\u001b[1;33m \u001b[1;32mimport\u001b[0m \u001b[0mkeras\u001b[0m\u001b[1;33m\u001b[0m\u001b[1;33m\u001b[0m\u001b[0m\n\u001b[0m\u001b[0;32m      2\u001b[0m \u001b[1;32mfrom\u001b[0m \u001b[0mkeras\u001b[0m\u001b[1;33m.\u001b[0m\u001b[0mmodels\u001b[0m \u001b[1;32mimport\u001b[0m \u001b[0mSequential\u001b[0m\u001b[1;33m\u001b[0m\u001b[1;33m\u001b[0m\u001b[0m\n\u001b[0;32m      3\u001b[0m \u001b[1;32mfrom\u001b[0m \u001b[0mkeras\u001b[0m\u001b[1;33m.\u001b[0m\u001b[0mlayers\u001b[0m \u001b[1;32mimport\u001b[0m \u001b[0mDense\u001b[0m\u001b[1;33m,\u001b[0m\u001b[0mConv2D\u001b[0m\u001b[1;33m,\u001b[0m\u001b[0mMaxPooling2D\u001b[0m\u001b[1;33m,\u001b[0m\u001b[0mFlatten\u001b[0m\u001b[1;33m\u001b[0m\u001b[1;33m\u001b[0m\u001b[0m\n",
      "\u001b[1;31mModuleNotFoundError\u001b[0m: No module named 'keras'"
     ]
    }
   ],
   "source": [
    "import keras\n",
    "from keras.models import Sequential\n",
    "from keras.layers import Dense,Conv2D,MaxPooling2D,Flatten"
   ]
  },
  {
   "cell_type": "code",
   "execution_count": 8,
   "metadata": {},
   "outputs": [],
   "source": [
    "model_cnn=Sequential()"
   ]
  },
  {
   "cell_type": "code",
   "execution_count": 9,
   "metadata": {},
   "outputs": [
    {
     "name": "stderr",
     "output_type": "stream",
     "text": [
      "C:\\Users\\Shiva Prasad\\Anaconda3\\lib\\site-packages\\ipykernel_launcher.py:1: UserWarning: Update your `Conv2D` call to the Keras 2 API: `Conv2D(32, (3, 3), input_shape=(64, 64, 3..., activation=\"relu\")`\n",
      "  \"\"\"Entry point for launching an IPython kernel.\n"
     ]
    }
   ],
   "source": [
    "model_cnn.add(Conv2D(32,3,3,input_shape=(64,64,3),activation='relu'))"
   ]
  },
  {
   "cell_type": "code",
   "execution_count": 10,
   "metadata": {},
   "outputs": [],
   "source": [
    "model_cnn.add(MaxPooling2D(pool_size=(2,2)))"
   ]
  },
  {
   "cell_type": "code",
   "execution_count": 11,
   "metadata": {},
   "outputs": [],
   "source": [
    "model_cnn.add(Flatten())"
   ]
  },
  {
   "cell_type": "markdown",
   "metadata": {},
   "source": [
    "# hidden layer"
   ]
  },
  {
   "cell_type": "code",
   "execution_count": 12,
   "metadata": {},
   "outputs": [],
   "source": [
    "model_cnn.add(Dense(100,activation='relu'))"
   ]
  },
  {
   "cell_type": "markdown",
   "metadata": {},
   "source": [
    "# output layer"
   ]
  },
  {
   "cell_type": "code",
   "execution_count": 13,
   "metadata": {},
   "outputs": [],
   "source": [
    "model_cnn.add(Dense(6,activation='softmax'))"
   ]
  },
  {
   "cell_type": "markdown",
   "metadata": {},
   "source": [
    "# compile"
   ]
  },
  {
   "cell_type": "code",
   "execution_count": 14,
   "metadata": {},
   "outputs": [
    {
     "name": "stderr",
     "output_type": "stream",
     "text": [
      "W1006 12:29:17.235573 11888 deprecation_wrapper.py:119] From C:\\Users\\Shiva Prasad\\Anaconda3\\lib\\site-packages\\keras\\optimizers.py:790: The name tf.train.Optimizer is deprecated. Please use tf.compat.v1.train.Optimizer instead.\n",
      "\n",
      "W1006 12:29:17.300430 11888 deprecation_wrapper.py:119] From C:\\Users\\Shiva Prasad\\Anaconda3\\lib\\site-packages\\keras\\backend\\tensorflow_backend.py:3295: The name tf.log is deprecated. Please use tf.math.log instead.\n",
      "\n"
     ]
    }
   ],
   "source": [
    "model_cnn.compile(optimizer='adam',loss='categorical_crossentropy',metrics=['accuracy'])"
   ]
  },
  {
   "cell_type": "code",
   "execution_count": 15,
   "metadata": {},
   "outputs": [],
   "source": [
    "from keras.preprocessing.image import ImageDataGenerator\n",
    "train_datagen=ImageDataGenerator(rescale=1./255,shear_range=0.2,zoom_range=0.2,horizontal_flip=True)"
   ]
  },
  {
   "cell_type": "code",
   "execution_count": 16,
   "metadata": {},
   "outputs": [],
   "source": [
    "test_datagen=ImageDataGenerator(rescale=1./255)"
   ]
  },
  {
   "cell_type": "code",
   "execution_count": 17,
   "metadata": {},
   "outputs": [
    {
     "name": "stdout",
     "output_type": "stream",
     "text": [
      "Found 493 images belonging to 6 classes.\n"
     ]
    }
   ],
   "source": [
    "x_train=train_datagen.flow_from_directory(r\"C:\\Users\\Shiva Prasad\\Desktop\\crop detection\\trainingset\",target_size=(64,64),batch_size=32,class_mode='categorical')"
   ]
  },
  {
   "cell_type": "code",
   "execution_count": 18,
   "metadata": {},
   "outputs": [
    {
     "name": "stdout",
     "output_type": "stream",
     "text": [
      "Found 116 images belonging to 6 classes.\n"
     ]
    }
   ],
   "source": [
    "x_test=test_datagen.flow_from_directory(r\"C:\\Users\\Shiva Prasad\\Desktop\\crop detection\\test set\",target_size=(64,64),batch_size=32,class_mode='categorical')"
   ]
  },
  {
   "cell_type": "code",
   "execution_count": 19,
   "metadata": {},
   "outputs": [
    {
     "data": {
      "text/plain": [
       "{'bacterial leaf blight': 0,\n",
       " 'blast': 1,\n",
       " 'false smut': 2,\n",
       " 'normal': 3,\n",
       " 'rice tungro': 4,\n",
       " 'sheath blight': 5}"
      ]
     },
     "execution_count": 19,
     "metadata": {},
     "output_type": "execute_result"
    }
   ],
   "source": [
    "x_train.class_indices"
   ]
  },
  {
   "cell_type": "code",
   "execution_count": 20,
   "metadata": {},
   "outputs": [
    {
     "data": {
      "text/plain": [
       "{'bacterial leaf blight': 0,\n",
       " 'blast': 1,\n",
       " 'false smut': 2,\n",
       " 'normal': 3,\n",
       " 'rice tungro': 4,\n",
       " 'sheath blight': 5}"
      ]
     },
     "execution_count": 20,
     "metadata": {},
     "output_type": "execute_result"
    }
   ],
   "source": [
    "x_test.class_indices"
   ]
  },
  {
   "cell_type": "code",
   "execution_count": 21,
   "metadata": {
    "scrolled": false
   },
   "outputs": [
    {
     "name": "stderr",
     "output_type": "stream",
     "text": [
      "C:\\Users\\Shiva Prasad\\Anaconda3\\lib\\site-packages\\ipykernel_launcher.py:1: UserWarning: The semantics of the Keras 2 argument `steps_per_epoch` is not the same as the Keras 1 argument `samples_per_epoch`. `steps_per_epoch` is the number of batches to draw from the generator at each epoch. Basically steps_per_epoch = samples_per_epoch/batch_size. Similarly `nb_val_samples`->`validation_steps` and `val_samples`->`steps` arguments have changed. Update your method calls accordingly.\n",
      "  \"\"\"Entry point for launching an IPython kernel.\n",
      "C:\\Users\\Shiva Prasad\\Anaconda3\\lib\\site-packages\\ipykernel_launcher.py:1: UserWarning: Update your `fit_generator` call to the Keras 2 API: `fit_generator(<keras_pre..., epochs=25, validation_data=<keras_pre..., steps_per_epoch=15, validation_steps=116)`\n",
      "  \"\"\"Entry point for launching an IPython kernel.\n",
      "W1006 12:30:40.389430 11888 deprecation.py:323] From C:\\Users\\Shiva Prasad\\Anaconda3\\lib\\site-packages\\tensorflow\\python\\ops\\math_grad.py:1250: add_dispatch_support.<locals>.wrapper (from tensorflow.python.ops.array_ops) is deprecated and will be removed in a future version.\n",
      "Instructions for updating:\n",
      "Use tf.where in 2.0, which has the same broadcast rule as np.where\n",
      "W1006 12:30:40.517089 11888 deprecation_wrapper.py:119] From C:\\Users\\Shiva Prasad\\Anaconda3\\lib\\site-packages\\keras\\backend\\tensorflow_backend.py:986: The name tf.assign_add is deprecated. Please use tf.compat.v1.assign_add instead.\n",
      "\n"
     ]
    },
    {
     "name": "stdout",
     "output_type": "stream",
     "text": [
      "Epoch 1/25\n",
      "15/15 [==============================] - 91s 6s/step - loss: 2.6453 - acc: 0.1354 - val_loss: 1.8388 - val_acc: 0.2069\n",
      "Epoch 2/25\n",
      "15/15 [==============================] - 86s 6s/step - loss: 1.7786 - acc: 0.2355 - val_loss: 1.7816 - val_acc: 0.2500\n",
      "Epoch 3/25\n",
      "15/15 [==============================] - 81s 5s/step - loss: 1.7471 - acc: 0.2717 - val_loss: 1.8356 - val_acc: 0.2241\n",
      "Epoch 4/25\n",
      "15/15 [==============================] - 81s 5s/step - loss: 1.6772 - acc: 0.2780 - val_loss: 1.7976 - val_acc: 0.2500\n",
      "Epoch 5/25\n",
      "15/15 [==============================] - 81s 5s/step - loss: 1.6479 - acc: 0.2962 - val_loss: 1.7797 - val_acc: 0.2672\n",
      "Epoch 6/25\n",
      "15/15 [==============================] - 85s 6s/step - loss: 1.6031 - acc: 0.3568 - val_loss: 1.8512 - val_acc: 0.2672\n",
      "Epoch 7/25\n",
      "15/15 [==============================] - 84s 6s/step - loss: 1.5715 - acc: 0.3631 - val_loss: 1.7148 - val_acc: 0.3448\n",
      "Epoch 8/25\n",
      "15/15 [==============================] - 83s 6s/step - loss: 1.4841 - acc: 0.4315 - val_loss: 1.8318 - val_acc: 0.2672\n",
      "Epoch 9/25\n",
      "15/15 [==============================] - 82s 5s/step - loss: 1.4926 - acc: 0.4028 - val_loss: 1.7449 - val_acc: 0.2241\n",
      "Epoch 10/25\n",
      "15/15 [==============================] - 81s 5s/step - loss: 1.4646 - acc: 0.4124 - val_loss: 1.6189 - val_acc: 0.3017\n",
      "Epoch 11/25\n",
      "15/15 [==============================] - 87s 6s/step - loss: 1.3838 - acc: 0.4628 - val_loss: 1.6837 - val_acc: 0.3534\n",
      "Epoch 12/25\n",
      "15/15 [==============================] - 82s 5s/step - loss: 1.3350 - acc: 0.4869 - val_loss: 1.7821 - val_acc: 0.3276\n",
      "Epoch 13/25\n",
      "15/15 [==============================] - 83s 6s/step - loss: 1.3527 - acc: 0.4998 - val_loss: 1.8751 - val_acc: 0.3017\n",
      "Epoch 14/25\n",
      "15/15 [==============================] - 86s 6s/step - loss: 1.3203 - acc: 0.5252 - val_loss: 1.7925 - val_acc: 0.2672\n",
      "Epoch 15/25\n",
      "15/15 [==============================] - 84s 6s/step - loss: 1.3130 - acc: 0.5139 - val_loss: 1.7307 - val_acc: 0.3190\n",
      "Epoch 16/25\n",
      "15/15 [==============================] - 81s 5s/step - loss: 1.2284 - acc: 0.5743 - val_loss: 1.6745 - val_acc: 0.3793\n",
      "Epoch 17/25\n",
      "15/15 [==============================] - 81s 5s/step - loss: 1.1736 - acc: 0.5833 - val_loss: 1.7960 - val_acc: 0.4052\n",
      "Epoch 18/25\n",
      "15/15 [==============================] - 80s 5s/step - loss: 1.1359 - acc: 0.5636 - val_loss: 1.6073 - val_acc: 0.3707\n",
      "Epoch 19/25\n",
      "15/15 [==============================] - 79s 5s/step - loss: 1.1284 - acc: 0.5938 - val_loss: 1.7346 - val_acc: 0.3103\n",
      "Epoch 20/25\n",
      "15/15 [==============================] - 80s 5s/step - loss: 1.1206 - acc: 0.6033 - val_loss: 1.7125 - val_acc: 0.3276\n",
      "Epoch 21/25\n",
      "15/15 [==============================] - 80s 5s/step - loss: 1.0619 - acc: 0.6295 - val_loss: 1.7269 - val_acc: 0.2931\n",
      "Epoch 22/25\n",
      "15/15 [==============================] - 79s 5s/step - loss: 1.0421 - acc: 0.6210 - val_loss: 1.6698 - val_acc: 0.3793\n",
      "Epoch 23/25\n",
      "15/15 [==============================] - 81s 5s/step - loss: 1.0074 - acc: 0.6565 - val_loss: 1.9006 - val_acc: 0.3621\n",
      "Epoch 24/25\n",
      "15/15 [==============================] - 79s 5s/step - loss: 0.9926 - acc: 0.6500 - val_loss: 1.8370 - val_acc: 0.4138\n",
      "Epoch 25/25\n",
      "15/15 [==============================] - 82s 5s/step - loss: 1.0162 - acc: 0.6552 - val_loss: 1.6256 - val_acc: 0.3621\n"
     ]
    },
    {
     "data": {
      "text/plain": [
       "<keras.callbacks.History at 0x173c0ac14a8>"
      ]
     },
     "execution_count": 21,
     "metadata": {},
     "output_type": "execute_result"
    }
   ],
   "source": [
    "model_cnn.fit_generator(x_train,samples_per_epoch=493,epochs=25,validation_data=x_test,nb_val_samples=116)"
   ]
  },
  {
   "cell_type": "code",
   "execution_count": 22,
   "metadata": {},
   "outputs": [],
   "source": [
    "model_cnn.save(\"crop helath assistant.h5\")\n"
   ]
  },
  {
   "cell_type": "code",
   "execution_count": 23,
   "metadata": {},
   "outputs": [],
   "source": [
    "model_cnn.save(\"crop helath assistant.pickle\")"
   ]
  },
  {
   "cell_type": "code",
   "execution_count": null,
   "metadata": {},
   "outputs": [],
   "source": []
  }
 ],
 "metadata": {
  "kernelspec": {
   "display_name": "Python 3",
   "language": "python",
   "name": "python3"
  },
  "language_info": {
   "codemirror_mode": {
    "name": "ipython",
    "version": 3
   },
   "file_extension": ".py",
   "mimetype": "text/x-python",
   "name": "python",
   "nbconvert_exporter": "python",
   "pygments_lexer": "ipython3",
   "version": "3.7.4"
  }
 },
 "nbformat": 4,
 "nbformat_minor": 2
}
