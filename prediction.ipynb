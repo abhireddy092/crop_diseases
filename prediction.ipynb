{
 "cells": [
  {
   "cell_type": "code",
   "execution_count": 1,
   "metadata": {},
   "outputs": [
    {
     "ename": "ModuleNotFoundError",
     "evalue": "No module named 'keras'",
     "output_type": "error",
     "traceback": [
      "\u001b[1;31m---------------------------------------------------------------------------\u001b[0m",
      "\u001b[1;31mModuleNotFoundError\u001b[0m                       Traceback (most recent call last)",
      "\u001b[1;32m<ipython-input-1-e51987751d24>\u001b[0m in \u001b[0;36m<module>\u001b[1;34m\u001b[0m\n\u001b[0;32m      1\u001b[0m \u001b[1;32mimport\u001b[0m \u001b[0mnumpy\u001b[0m \u001b[1;32mas\u001b[0m \u001b[0mnp\u001b[0m\u001b[1;33m\u001b[0m\u001b[1;33m\u001b[0m\u001b[0m\n\u001b[1;32m----> 2\u001b[1;33m \u001b[1;32mfrom\u001b[0m \u001b[0mkeras\u001b[0m\u001b[1;33m.\u001b[0m\u001b[0mpreprocessing\u001b[0m \u001b[1;32mimport\u001b[0m \u001b[0mimage\u001b[0m\u001b[1;33m\u001b[0m\u001b[1;33m\u001b[0m\u001b[0m\n\u001b[0m\u001b[0;32m      3\u001b[0m \u001b[1;33m\u001b[0m\u001b[0m\n\u001b[0;32m      4\u001b[0m \u001b[1;32mfrom\u001b[0m \u001b[0mtkinter\u001b[0m \u001b[1;32mimport\u001b[0m \u001b[1;33m*\u001b[0m\u001b[1;33m\u001b[0m\u001b[1;33m\u001b[0m\u001b[0m\n\u001b[0;32m      5\u001b[0m \u001b[1;32mfrom\u001b[0m \u001b[0mPIL\u001b[0m \u001b[1;32mimport\u001b[0m \u001b[0mImageTk\u001b[0m\u001b[1;33m,\u001b[0m \u001b[0mImage\u001b[0m\u001b[1;33m\u001b[0m\u001b[1;33m\u001b[0m\u001b[0m\n",
      "\u001b[1;31mModuleNotFoundError\u001b[0m: No module named 'keras'"
     ]
    }
   ],
   "source": [
    "import numpy as np\n",
    "from keras.preprocessing import image\n",
    "\n",
    "from tkinter import *\n",
    "from PIL import ImageTk, Image\n",
    "from tkinter import filedialog\n",
    "import os\n",
    "from keras.models import load_model"
   ]
  },
  {
   "cell_type": "code",
   "execution_count": 2,
   "metadata": {},
   "outputs": [
    {
     "name": "stderr",
     "output_type": "stream",
     "text": [
      "WARNING: Logging before flag parsing goes to stderr.\n",
      "W1006 13:18:45.284970 11100 deprecation_wrapper.py:119] From C:\\Users\\Shiva Prasad\\Anaconda3\\lib\\site-packages\\keras\\backend\\tensorflow_backend.py:517: The name tf.placeholder is deprecated. Please use tf.compat.v1.placeholder instead.\n",
      "\n",
      "W1006 13:18:45.316928 11100 deprecation_wrapper.py:119] From C:\\Users\\Shiva Prasad\\Anaconda3\\lib\\site-packages\\keras\\backend\\tensorflow_backend.py:4138: The name tf.random_uniform is deprecated. Please use tf.random.uniform instead.\n",
      "\n",
      "W1006 13:18:45.352880 11100 deprecation_wrapper.py:119] From C:\\Users\\Shiva Prasad\\Anaconda3\\lib\\site-packages\\keras\\backend\\tensorflow_backend.py:3976: The name tf.nn.max_pool is deprecated. Please use tf.nn.max_pool2d instead.\n",
      "\n",
      "W1006 13:18:45.444758 11100 deprecation_wrapper.py:119] From C:\\Users\\Shiva Prasad\\Anaconda3\\lib\\site-packages\\keras\\backend\\tensorflow_backend.py:174: The name tf.get_default_session is deprecated. Please use tf.compat.v1.get_default_session instead.\n",
      "\n",
      "W1006 13:18:45.448755 11100 deprecation_wrapper.py:119] From C:\\Users\\Shiva Prasad\\Anaconda3\\lib\\site-packages\\keras\\backend\\tensorflow_backend.py:181: The name tf.ConfigProto is deprecated. Please use tf.compat.v1.ConfigProto instead.\n",
      "\n",
      "W1006 13:18:45.448755 11100 deprecation_wrapper.py:119] From C:\\Users\\Shiva Prasad\\Anaconda3\\lib\\site-packages\\keras\\backend\\tensorflow_backend.py:186: The name tf.Session is deprecated. Please use tf.compat.v1.Session instead.\n",
      "\n",
      "W1006 13:18:45.624552 11100 deprecation_wrapper.py:119] From C:\\Users\\Shiva Prasad\\Anaconda3\\lib\\site-packages\\keras\\optimizers.py:790: The name tf.train.Optimizer is deprecated. Please use tf.compat.v1.train.Optimizer instead.\n",
      "\n",
      "W1006 13:18:45.792328 11100 deprecation.py:323] From C:\\Users\\Shiva Prasad\\Anaconda3\\lib\\site-packages\\tensorflow\\python\\ops\\math_grad.py:1250: add_dispatch_support.<locals>.wrapper (from tensorflow.python.ops.array_ops) is deprecated and will be removed in a future version.\n",
      "Instructions for updating:\n",
      "Use tf.where in 2.0, which has the same broadcast rule as np.where\n"
     ]
    }
   ],
   "source": [
    "classifier = load_model('crop helath assistant.h5')"
   ]
  },
  {
   "cell_type": "code",
   "execution_count": 3,
   "metadata": {},
   "outputs": [],
   "source": [
    "classifier.compile(optimizer = 'adam', loss = 'categorical_crossentropy', metrics = ['accuracy'])"
   ]
  },
  {
   "cell_type": "code",
   "execution_count": 4,
   "metadata": {},
   "outputs": [
    {
     "name": "stdout",
     "output_type": "stream",
     "text": [
      "a\n"
     ]
    }
   ],
   "source": [
    "\n",
    "print(\"a\")\n"
   ]
  },
  {
   "cell_type": "code",
   "execution_count": null,
   "metadata": {},
   "outputs": [],
   "source": []
  },
  {
   "cell_type": "code",
   "execution_count": null,
   "metadata": {},
   "outputs": [
    {
     "name": "stdout",
     "output_type": "stream",
     "text": [
      "[4]\n",
      "rice tungro\n",
      "[3]\n",
      "normal\n"
     ]
    }
   ],
   "source": [
    "root = Tk()\n",
    "root.geometry(\"550x300+300+150\")\n",
    "root.resizable(width=True, height=True)\n",
    "def openfn():\n",
    "    filename = filedialog.askopenfilename(title='open')\n",
    "    return filename\n",
    "def open_img():\n",
    "    x = openfn()\n",
    "    test_image = image.load_img(x, target_size = (64, 64))\n",
    "    test_image = image.img_to_array(test_image)\n",
    "    test_image = np.expand_dims(test_image, axis = 0)\n",
    "    result = classifier.predict_classes(test_image)\n",
    "    print(result)\n",
    "    index=['bacterial leaf blight','blast','false smut','normal','rice tungro','sheath blight']\n",
    "    print(str(index[result[0]]))\n",
    "    label = Label( root, text=\"Prediction : \"+str(index[result[0]]))\n",
    "    label.pack()\n",
    "    if(result == 0):\n",
    "        text = \"monocrotophos,fenthion\"\n",
    "        label = Label( root, text=\"fertilizers : \"+text).pack()\n",
    "        text=\"Observed 1-3 weeks after transplanting,\\nLeaves wilt and roll up and become grayish green to yellow,\\nEntire plant wilt completely \"\n",
    "        label1= Label( root, text=\"symptoms : \"+text).pack()\n",
    "    if(result == 1):\n",
    "        text = \"carbofuran granules\"\n",
    "        label = Label( root, text=\"fertilizers: \"+text).pack()\n",
    "        text=\"nerotic borders,\\nelliptical shaped,\\nwhitish to gray colour,\\nobserved in above ground parts of plant\"\n",
    "        label1= Label( root, text=\"symptoms : \"+text).pack()\n",
    "    if(result == 2):\n",
    "        text = \"phorate,quinalphos\"\n",
    "        label = Label( root, text=\"fertilizers: \"+text).pack()\n",
    "        text=\"Usually a few grains in a panicle are infected,\\nVisible in between glumes,\\nSmooth yellow colored membrane which bursts at later stage\"\n",
    "        label1= Label( root, text=\"symptoms : \"+text).pack()\n",
    "    if(result == 3):\n",
    "        text = \"\"\n",
    "        label = Label( root, text=\"it is perfect: \"+text).pack()\n",
    "        text=\"\"\n",
    "        label = Label( root, text=\"no symptoms: \"+text).pack()\n",
    "    if(result == 4):\n",
    "        text = \"phosphobacteria\"\n",
    "        label = Label( root, text=\"fertilizers : \"+text).pack()  \n",
    "        text=\"Most panicles sterile or partially filled grains,\\nDelayed flowering, - panicles small and not completely exerted,\\nDiscoloration begins from leaf tip and extends down to the blade or the lower leaf portion\"\n",
    "        label1= Label( root, text=\"symptoms : \"+text).pack()\n",
    "    if(result == 5):\n",
    "        text = \"foliar\"\n",
    "        label = Label( root, text=\"fertilizer : \"+text).pack()  \n",
    "        text=\"oval or ellipsoidal greenish gray lesions,\\nbrown margins as they grow older,\\n the disease is mostly initiated by sclerotia\"\n",
    "        label1= Label( root, text=\"symptoms : \"+text).pack()\n",
    "        \n",
    "    img = Image.open(x)\n",
    "    img = img.resize((250, 250), Image.ANTIALIAS)\n",
    "    img = ImageTk.PhotoImage(img)\n",
    "    panel = Label(root, image=img)\n",
    "    panel.image = img\n",
    "    panel.pack()\n",
    "btn = Button(root, text='open image', command=open_img).pack()\n",
    "root.mainloop()"
   ]
  },
  {
   "cell_type": "code",
   "execution_count": null,
   "metadata": {},
   "outputs": [],
   "source": []
  },
  {
   "cell_type": "code",
   "execution_count": null,
   "metadata": {},
   "outputs": [],
   "source": []
  }
 ],
 "metadata": {
  "kernelspec": {
   "display_name": "Python 3",
   "language": "python",
   "name": "python3"
  },
  "language_info": {
   "codemirror_mode": {
    "name": "ipython",
    "version": 3
   },
   "file_extension": ".py",
   "mimetype": "text/x-python",
   "name": "python",
   "nbconvert_exporter": "python",
   "pygments_lexer": "ipython3",
   "version": "3.7.4"
  }
 },
 "nbformat": 4,
 "nbformat_minor": 2
}
